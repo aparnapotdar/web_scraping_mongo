{
 "cells": [
  {
   "cell_type": "code",
   "execution_count": 1,
   "metadata": {
    "collapsed": true
   },
   "outputs": [],
   "source": [
    "#Homework 11\n",
    "# Import Splinter and BeautifulSoup\n",
    "from splinter import Browser\n",
    "from bs4 import BeautifulSoup"
   ]
  },
  {
   "cell_type": "code",
   "execution_count": 2,
   "metadata": {},
   "outputs": [
    {
     "name": "stdout",
     "output_type": "stream",
     "text": [
      "/usr/local/bin/chromedriver\r\n"
     ]
    }
   ],
   "source": [
    "# Path to chromedriver\n",
    "!which chromedriver"
   ]
  },
  {
   "cell_type": "code",
   "execution_count": 3,
   "metadata": {
    "collapsed": true
   },
   "outputs": [],
   "source": [
    "# Set the executable path and initialize the chrome browser in splinter\n",
    "executable_path = {'executable_path': '/usr/local/bin/chromedriver'}\n",
    "browser = Browser('chrome', **executable_path)"
   ]
  },
  {
   "cell_type": "markdown",
   "metadata": {},
   "source": [
    "## Visit the NASA mars news site"
   ]
  },
  {
   "cell_type": "code",
   "execution_count": 4,
   "metadata": {
    "collapsed": true
   },
   "outputs": [],
   "source": [
    "# Visit the mars nasa news site\n",
    "url = 'https://mars.nasa.gov/news/'\n",
    "browser.visit(url)\n",
    "# time.sleep(1)  # Optional delay for loading the page"
   ]
  },
  {
   "cell_type": "code",
   "execution_count": 5,
   "metadata": {
    "collapsed": true
   },
   "outputs": [],
   "source": [
    "# Convert the browser html to a soup object and then quit the browser\n",
    "html = browser.html\n",
    "news_soup = BeautifulSoup(html, 'html.parser')\n",
    "# browser.quit()\n",
    "#news_soup"
   ]
  },
  {
   "cell_type": "code",
   "execution_count": 6,
   "metadata": {
    "collapsed": true
   },
   "outputs": [],
   "source": [
    "news_titles = news_soup.find_all('div', class_='content_title')\n",
    "#news_title"
   ]
  },
  {
   "cell_type": "code",
   "execution_count": 7,
   "metadata": {},
   "outputs": [
    {
     "data": {
      "text/plain": [
       "['Bound for Mars: Countdown to First Interplanetary Launch from California',\n",
       " 'NASA Invests in Visionary Technology ',\n",
       " 'NASA is Ready to Study the Heart of Mars',\n",
       " '‘Marsquakes’ Could Shake Up Planetary Science',\n",
       " 'Mars Curiosity Celebrates Sol 2,000',\n",
       " 'NASA Briefing on First Mission to Study Mars Interior',\n",
       " \"New 'AR' Mobile App Features 3-D NASA Spacecraft\",\n",
       " 'NASA Mars Mission Tours California',\n",
       " 'Next NASA Mars Rover Reaches Key Manufacturing Milestone',\n",
       " 'Witness First Mars Launch from West Coast',\n",
       " '360 Video: Tour a Mars Robot Test Lab',\n",
       " 'NASA InSight Mission to Mars Arrives at Launch Site',\n",
       " 'Curiosity Tests a New Way to Drill on Mars',\n",
       " 'Seven Ways Mars InSight is Different',\n",
       " 'Nearly a Decade After Mars Phoenix Landed, Another Look',\n",
       " 'Spacecraft Exits Safe Mode',\n",
       " '5,000 Days on Mars; Solar-Powered Rover Approaching 5,000th Martian Dawn',\n",
       " 'Long-Lived Mars Rover Opportunity Keeps Finding Surprises',\n",
       " 'A Piece of Mars is Going Home',\n",
       " 'Mars Reconnaissance Orbiter Preparing for Years Ahead',\n",
       " 'Tiny Crystal Shapes Get Close Look From Mars Rover',\n",
       " 'NASA Tests Atomic Clock for Deep Space Navigation',\n",
       " \"Mount Sharp 'Photobombs' Mars Curiosity Rover\",\n",
       " 'Vista From Mars Rover Looks Back Over Journey So Far',\n",
       " \"NASA's Next Mars Lander Spreads its Solar Wings\",\n",
       " 'Dust Storms Linked to Gas Escape from Mars Atmosphere',\n",
       " 'Steep Slopes on Mars Reveal Structure of Buried Ice',\n",
       " 'Mars Mission Sheds Light on Habitability of Distant Planets',\n",
       " \"NASA Mars Rover Team's Tilted Winter Strategy Works\",\n",
       " 'NASA Builds Its Next Mars Rover Mission',\n",
       " 'Recurring Martian Streaks: Flowing Sand, Not Water?',\n",
       " \"NASA's Mars 2020 Mission Performs First Supersonic Parachute Test\",\n",
       " 'More Than 2.4 Million Names Are Going to Mars',\n",
       " \"Martian Ridge Brings Out Rover's Color Talents\",\n",
       " \"Next Mars Rover Will Have 23 'Eyes'\",\n",
       " 'Mars Rover Mission Progresses Toward Resumed Drilling',\n",
       " 'Take a Walk on Mars -- in Your Own Living Room',\n",
       " 'NASA’s MAVEN Mission Finds Mars Has a Twisted Tail',\n",
       " 'Mars Study Yields Clues to Possible Cradle of Life',\n",
       " \"Examining Mars' Moon Phobos in a Different Light\",\n",
       " \"\\nNew 'AR' Mobile App Features 3-D NASA Spacecraft\\n\",\n",
       " '\\nWitness First Mars Launch from West Coast\\n',\n",
       " '\\nNASA InSight Mission to Mars Arrives at Launch Site\\n',\n",
       " '\\nNASA Invests in Visionary Technology \\n',\n",
       " '\\nNASA is Ready to Study the Heart of Mars\\n',\n",
       " '\\nNASA Briefing on First Mission to Study Mars Interior\\n',\n",
       " \"\\nNew 'AR' Mobile App Features 3-D NASA Spacecraft\\n\",\n",
       " '\\nWitness First Mars Launch from West Coast\\n',\n",
       " '\\nNASA InSight Mission to Mars Arrives at Launch Site\\n',\n",
       " '\\nNASA Invests in Visionary Technology \\n',\n",
       " '\\nNASA is Ready to Study the Heart of Mars\\n',\n",
       " '\\nNASA Briefing on First Mission to Study Mars Interior\\n']"
      ]
     },
     "execution_count": 7,
     "metadata": {},
     "output_type": "execute_result"
    }
   ],
   "source": [
    "#Find headlines\n",
    "news_title = []\n",
    "# Loop over news_title elements founds with class_='content_title'\n",
    "for title in news_titles:\n",
    "    # If td element has an anchor...\n",
    "    if (title.a):\n",
    "        # And the anchor has non-blank text...\n",
    "        if (title.a.text):\n",
    "            # Append the td to the list\n",
    "            news_title.append(title.a.text)\n",
    "news_title"
   ]
  },
  {
   "cell_type": "code",
   "execution_count": 8,
   "metadata": {},
   "outputs": [
    {
     "data": {
      "text/plain": [
       "[<div class=\"article_teaser_body\">On May 5, millions of Californians may witness the historic first interplanetary launch from America’s West Coast.</div>,\n",
       " <div class=\"article_teaser_body\">NASA is investing in technology concepts, including several from JPL, that may one day be used for future space exploration missions.</div>,\n",
       " <div class=\"article_teaser_body\">NASA is about to go on a journey to study the center of Mars.</div>,\n",
       " <div class=\"article_teaser_body\">InSight, the next mission to the Red Planet, will use seismology to see into the depths of Mars.</div>,\n",
       " <div class=\"article_teaser_body\">NASA's Mars Curiosity rover just hit a new milestone: its two-thousandth Martian day on the Red Planet. An image mosaic taken recently offers a preview of what comes next.</div>,\n",
       " <div class=\"article_teaser_body\">NASA’s next mission to Mars will be the topic of a media briefing Thursday, March 29, at JPL. The briefing will air live on NASA Television and the agency’s website.</div>,\n",
       " <div class=\"article_teaser_body\">NASA spacecraft travel to far-off destinations in space, but a new mobile app produced by NASA's Jet Propulsion Laboratory, Pasadena, California, brings spacecraft to users.</div>,\n",
       " <div class=\"article_teaser_body\">Scientists and engineers with NASA's next mission to Mars will be touring California cities starting this month.</div>,\n",
       " <div class=\"article_teaser_body\">NASA's Mars 2020 mission has begun the assembly, test and launch operations (ATLO) phase of its development, on track for a July 2020 launch to Mars.</div>,\n",
       " <div class=\"article_teaser_body\">NASA invites digital creators to apply for social media credentials to cover the launch of the InSight mission to Mars, May 3-5, at California's Vandenberg Air Force Base.</div>,\n",
       " <div class=\"article_teaser_body\">Engineers are practicing operations for NASA's Mars InSight lander, which is launching this spring.</div>,\n",
       " <div class=\"article_teaser_body\">NASA's InSight spacecraft has arrived at Vandenberg Air Force Base in central California to begin final preparations for a launch this May.</div>,\n",
       " <div class=\"article_teaser_body\">NASA's Mars Curiosity rover has conducted the first test of a new drilling technique on the Red Planet since its drill stopped working reliably.     </div>,\n",
       " <div class=\"article_teaser_body\">NASA has a long and successful track record at Mars. Since 1965, it has flown by, orbited, landed and roved across the surface of the Red Planet. What can InSight -- planned for launch in May -- do that hasn’t been done before?</div>,\n",
       " <div class=\"article_teaser_body\">A recent view from Mars orbit of the site where NASA's Phoenix Mars mission landed on far-northern Mars nearly a decade ago captures changes.</div>,\n",
       " <div class=\"article_teaser_body\">Diagnostic work is the focus for resuming service and exiting safe standby status.</div>,\n",
       " <div class=\"article_teaser_body\">The Sun will rise on NASA's solar-powered Mars rover Opportunity for the 5,000th time on Saturday, sending rays of energy to a robot that continues to provide revelations.</div>,\n",
       " <div class=\"article_teaser_body\">NASA's Mars Exploration Rover Opportunity keeps providing surprises about the Red Planet, most recently with observations of possible \"rock stripes.\"</div>,\n",
       " <div class=\"article_teaser_body\">When it launches in 2020, NASA's next Mars rover will carry a chunk of Martian meteorite on board.</div>,\n",
       " <div class=\"article_teaser_body\">NASA's Mars Reconnaissance Orbiter (MRO) has begun extra stargazing to help the space agency accomplish advances in Mars exploration over the next decade.</div>,\n",
       " <div class=\"article_teaser_body\">Star-shaped, tiny, dark bumps in the fine-layered bright bedrock of a Martian ridge are drawing close inspection by NASA's Curiosity Mars rover.</div>,\n",
       " <div class=\"article_teaser_body\">Project could help spacecraft keep time more efficiently and allow ground stations to better track multiple satellites at once near crowded areas like Mars.</div>,\n",
       " <div class=\"article_teaser_body\">A new self-portrait of NASA's Curiosity Mars rover shows the vehicle on Vera Rubin Ridge.</div>,\n",
       " <div class=\"article_teaser_body\">A panoramic image that NASA's Curiosity Mars rover took from a mountainside ridge provides a sweeping vista of key sites visited since the rover's 2012 landing, and the towering surroundings.</div>,\n",
       " <div class=\"article_teaser_body\">NASA's next mission to Mars passed a key test Tuesday, extending the solar arrays that will power the InSight spacecraft once it lands on the Red Planet this November.</div>,\n",
       " <div class=\"article_teaser_body\">If Mars has a global dust storm in 2018, observations could aid understanding of its effects.</div>,\n",
       " <div class=\"article_teaser_body\">Researchers using NASA's Mars Reconnaissance Orbiter have found eight sites where thick deposits of ice beneath Mars' surface are exposed.</div>,\n",
       " <div class=\"article_teaser_body\">How long might a rocky, Mars-like planet be habitable if it were orbiting a red dwarf star?</div>,\n",
       " <div class=\"article_teaser_body\">NASA's senior Mars rover, Opportunity, has just passed the shortest-daylight weeks of the long Martian year with its solar panels in encouragingly clean condition for entering a potential dust-storm season in 2018.\n",
       " \n",
       " </div>,\n",
       " <div class=\"article_teaser_body\">In just a few years, NASA's next Mars rover mission will be flying to the Red Planet.</div>,\n",
       " <div class=\"article_teaser_body\">Seasonal dark streaks on Mars that previously were described as possible signs of flowing water have steep slopes that are better matches to dry flow processes...</div>,\n",
       " <div class=\"article_teaser_body\">A 58-foot-tall Black Brant IX sounding rocket launches from NASA's Wallops Flight Facility on Oct. 4. This was the first test of the Mars 2020 mission's parachute-testing series, the Advanced Supersonic Parachute Inflation Research Experiment, or ASPIRE.</div>,\n",
       " <div class=\"article_teaser_body\">Last month, NASA invited members of the public to send their names to Mars. And the public responded loud and clear.</div>,\n",
       " <div class=\"article_teaser_body\">On a part of \"Vera Rubin Ridge\" where rover-team researchers sought to determine whether dust coatings are hiding rocks' hematite content, the Mast Camera (Mastcam) on NASA's Curiosity Mars rover took this image of a rock surface that had been brushed with the rover's Dust Removal Tool.</div>,\n",
       " <div class=\"article_teaser_body\">When NASA's Mars Pathfinder touched down in 1997, it had five cameras: two on a mast that popped up from the lander, and three on NASA's first rover, Sojourner.</div>,\n",
       " <div class=\"article_teaser_body\">NASA's Mars rover Curiosity team is working to restore Curiosity's sample-drilling capability using new techniques. The latest development is a preparatory test on Mars.</div>,\n",
       " <div class=\"article_teaser_body\">When NASA scientists want to follow the path of the Curiosity rover on Mars, they can don a mixed-reality headset and virtually explore the Martian landscape.</div>,\n",
       " <div class=\"article_teaser_body\">Mars has an invisible magnetic “tail” that is twisted by interaction with the solar wind, according to new research using data from NASA’s MAVEN spacecraft. </div>,\n",
       " <div class=\"article_teaser_body\">The discovery of evidence for ancient sea-floor hydrothermal deposits on Mars identifies an area on the planet that may offer clues about the origin of life on Earth.</div>,\n",
       " <div class=\"article_teaser_body\">NASA's longest-lived mission to Mars has gained its first look at the Martian moon Phobos, pursuing a deeper understanding by examining it in infrared wavelengths.</div>]"
      ]
     },
     "execution_count": 8,
     "metadata": {},
     "output_type": "execute_result"
    }
   ],
   "source": [
    "# Use the parent element to find the paragraph text\n",
    "news_paragraphs = news_soup.find_all('div', class_='article_teaser_body')\n",
    "news_paragraphs"
   ]
  },
  {
   "cell_type": "code",
   "execution_count": 9,
   "metadata": {},
   "outputs": [
    {
     "data": {
      "text/plain": [
       "['On May 5, millions of Californians may witness the historic first interplanetary launch from America’s West Coast.',\n",
       " 'NASA is investing in technology concepts, including several from JPL, that may one day be used for future space exploration missions.',\n",
       " 'NASA is about to go on a journey to study the center of Mars.',\n",
       " 'InSight, the next mission to the Red Planet, will use seismology to see into the depths of Mars.',\n",
       " \"NASA's Mars Curiosity rover just hit a new milestone: its two-thousandth Martian day on the Red Planet. An image mosaic taken recently offers a preview of what comes next.\",\n",
       " 'NASA’s next mission to Mars will be the topic of a media briefing Thursday, March 29, at JPL. The briefing will air live on NASA Television and the agency’s website.',\n",
       " \"NASA spacecraft travel to far-off destinations in space, but a new mobile app produced by NASA's Jet Propulsion Laboratory, Pasadena, California, brings spacecraft to users.\",\n",
       " \"Scientists and engineers with NASA's next mission to Mars will be touring California cities starting this month.\",\n",
       " \"NASA's Mars 2020 mission has begun the assembly, test and launch operations (ATLO) phase of its development, on track for a July 2020 launch to Mars.\",\n",
       " \"NASA invites digital creators to apply for social media credentials to cover the launch of the InSight mission to Mars, May 3-5, at California's Vandenberg Air Force Base.\",\n",
       " \"Engineers are practicing operations for NASA's Mars InSight lander, which is launching this spring.\",\n",
       " \"NASA's InSight spacecraft has arrived at Vandenberg Air Force Base in central California to begin final preparations for a launch this May.\",\n",
       " \"NASA's Mars Curiosity rover has conducted the first test of a new drilling technique on the Red Planet since its drill stopped working reliably.     \",\n",
       " 'NASA has a long and successful track record at Mars. Since 1965, it has flown by, orbited, landed and roved across the surface of the Red Planet. What can InSight -- planned for launch in May -- do that hasn’t been done before?',\n",
       " \"A recent view from Mars orbit of the site where NASA's Phoenix Mars mission landed on far-northern Mars nearly a decade ago captures changes.\",\n",
       " 'Diagnostic work is the focus for resuming service and exiting safe standby status.',\n",
       " \"The Sun will rise on NASA's solar-powered Mars rover Opportunity for the 5,000th time on Saturday, sending rays of energy to a robot that continues to provide revelations.\",\n",
       " 'NASA\\'s Mars Exploration Rover Opportunity keeps providing surprises about the Red Planet, most recently with observations of possible \"rock stripes.\"',\n",
       " \"When it launches in 2020, NASA's next Mars rover will carry a chunk of Martian meteorite on board.\",\n",
       " \"NASA's Mars Reconnaissance Orbiter (MRO) has begun extra stargazing to help the space agency accomplish advances in Mars exploration over the next decade.\",\n",
       " \"Star-shaped, tiny, dark bumps in the fine-layered bright bedrock of a Martian ridge are drawing close inspection by NASA's Curiosity Mars rover.\",\n",
       " 'Project could help spacecraft keep time more efficiently and allow ground stations to better track multiple satellites at once near crowded areas like Mars.',\n",
       " \"A new self-portrait of NASA's Curiosity Mars rover shows the vehicle on Vera Rubin Ridge.\",\n",
       " \"A panoramic image that NASA's Curiosity Mars rover took from a mountainside ridge provides a sweeping vista of key sites visited since the rover's 2012 landing, and the towering surroundings.\",\n",
       " \"NASA's next mission to Mars passed a key test Tuesday, extending the solar arrays that will power the InSight spacecraft once it lands on the Red Planet this November.\",\n",
       " 'If Mars has a global dust storm in 2018, observations could aid understanding of its effects.',\n",
       " \"Researchers using NASA's Mars Reconnaissance Orbiter have found eight sites where thick deposits of ice beneath Mars' surface are exposed.\",\n",
       " 'How long might a rocky, Mars-like planet be habitable if it were orbiting a red dwarf star?',\n",
       " \"NASA's senior Mars rover, Opportunity, has just passed the shortest-daylight weeks of the long Martian year with its solar panels in encouragingly clean condition for entering a potential dust-storm season in 2018.\\r\\n\\r\\n\",\n",
       " \"In just a few years, NASA's next Mars rover mission will be flying to the Red Planet.\",\n",
       " 'Seasonal dark streaks on Mars that previously were described as possible signs of flowing water have steep slopes that are better matches to dry flow processes...',\n",
       " \"A 58-foot-tall Black Brant IX sounding rocket launches from NASA's Wallops Flight Facility on Oct. 4. This was the first test of the Mars 2020 mission's parachute-testing series, the Advanced Supersonic Parachute Inflation Research Experiment, or ASPIRE.\",\n",
       " 'Last month, NASA invited members of the public to send their names to Mars. And the public responded loud and clear.',\n",
       " 'On a part of \"Vera Rubin Ridge\" where rover-team researchers sought to determine whether dust coatings are hiding rocks\\' hematite content, the Mast Camera (Mastcam) on NASA\\'s Curiosity Mars rover took this image of a rock surface that had been brushed with the rover\\'s Dust Removal Tool.',\n",
       " \"When NASA's Mars Pathfinder touched down in 1997, it had five cameras: two on a mast that popped up from the lander, and three on NASA's first rover, Sojourner.\",\n",
       " \"NASA's Mars rover Curiosity team is working to restore Curiosity's sample-drilling capability using new techniques. The latest development is a preparatory test on Mars.\",\n",
       " 'When NASA scientists want to follow the path of the Curiosity rover on Mars, they can don a mixed-reality headset and virtually explore the Martian landscape.',\n",
       " 'Mars has an invisible magnetic “tail” that is twisted by interaction with the solar wind, according to new research using data from NASA’s MAVEN spacecraft. ',\n",
       " 'The discovery of evidence for ancient sea-floor hydrothermal deposits on Mars identifies an area on the planet that may offer clues about the origin of life on Earth.',\n",
       " \"NASA's longest-lived mission to Mars has gained its first look at the Martian moon Phobos, pursuing a deeper understanding by examining it in infrared wavelengths.\"]"
      ]
     },
     "execution_count": 9,
     "metadata": {},
     "output_type": "execute_result"
    }
   ],
   "source": [
    "#Find news paragraphs\n",
    "new_p = []\n",
    "# Loop over news_title elements founds with class_='article_teaser_body'\n",
    "for para in news_paragraphs:\n",
    "    # find text\n",
    "    if (para.text):\n",
    "        # Append the text to the list\n",
    "        new_p.append(para.text)\n",
    "new_p"
   ]
  },
  {
   "cell_type": "markdown",
   "metadata": {},
   "source": [
    "## JPL Space Images Featured Image"
   ]
  },
  {
   "cell_type": "code",
   "execution_count": 10,
   "metadata": {
    "collapsed": true
   },
   "outputs": [],
   "source": [
    "# Visit URL\n",
    "url = 'https://www.jpl.nasa.gov/spaceimages/?search=&category=Mars'\n",
    "browser.visit(url)"
   ]
  },
  {
   "cell_type": "code",
   "execution_count": 11,
   "metadata": {
    "collapsed": true
   },
   "outputs": [],
   "source": [
    "# Find and click the full image button\n",
    "full_image_elem = browser.find_by_id('full_image')\n",
    "full_image_elem.click()"
   ]
  },
  {
   "cell_type": "code",
   "execution_count": 12,
   "metadata": {
    "collapsed": true
   },
   "outputs": [],
   "source": [
    "# Find the more info button and click that\n",
    "more_info_elem = browser.find_link_by_partial_text('more info')\n",
    "more_info_elem.click()"
   ]
  },
  {
   "cell_type": "code",
   "execution_count": 13,
   "metadata": {
    "collapsed": true
   },
   "outputs": [],
   "source": [
    "# Parse the resulting html with soup\n",
    "html = browser.html\n",
    "img_soup = BeautifulSoup(html, 'html.parser')"
   ]
  },
  {
   "cell_type": "code",
   "execution_count": 14,
   "metadata": {},
   "outputs": [
    {
     "data": {
      "text/plain": [
       "'/spaceimages/images/largesize/PIA19092_hires.jpg'"
      ]
     },
     "execution_count": 14,
     "metadata": {},
     "output_type": "execute_result"
    }
   ],
   "source": [
    "# find the relative image url\n",
    "img_url_rel = img_soup.find('figure', class_='lede').find('img')['src']\n",
    "img_url_rel"
   ]
  },
  {
   "cell_type": "code",
   "execution_count": 15,
   "metadata": {},
   "outputs": [
    {
     "data": {
      "text/plain": [
       "'https://www.jpl.nasa.gov/spaceimages/images/largesize/PIA19092_hires.jpg'"
      ]
     },
     "execution_count": 15,
     "metadata": {},
     "output_type": "execute_result"
    }
   ],
   "source": [
    "# Use the base url to create an absolute url\n",
    "img_url = f'https://www.jpl.nasa.gov{img_url_rel}'\n",
    "img_url"
   ]
  },
  {
   "cell_type": "markdown",
   "metadata": {},
   "source": [
    "## Mars Weather"
   ]
  },
  {
   "cell_type": "code",
   "execution_count": 16,
   "metadata": {
    "collapsed": true
   },
   "outputs": [],
   "source": [
    "url = 'https://twitter.com/marswxreport?lang=en'\n",
    "browser.visit(url)"
   ]
  },
  {
   "cell_type": "code",
   "execution_count": 17,
   "metadata": {
    "collapsed": true
   },
   "outputs": [],
   "source": [
    "html = browser.html\n",
    "weather_soup = BeautifulSoup(html, 'html.parser')"
   ]
  },
  {
   "cell_type": "code",
   "execution_count": 18,
   "metadata": {
    "collapsed": true
   },
   "outputs": [],
   "source": [
    "# First, find a tweet with the data-name `Mars Weather`\n",
    "mars_weather_tweet = weather_soup.find('div', attrs={\"class\": \"tweet\", \"data-name\": \"Mars Weather\"})"
   ]
  },
  {
   "cell_type": "code",
   "execution_count": 19,
   "metadata": {},
   "outputs": [
    {
     "data": {
      "text/plain": [
       "'Sol 2019 (April 11, 2018), Sunny, high -6C/21F, low -75C/-103F, pressure at 7.18 hPa, daylight 05:27-17:21'"
      ]
     },
     "execution_count": 19,
     "metadata": {},
     "output_type": "execute_result"
    }
   ],
   "source": [
    "# Next, search within the tweet for the p tag containing the tweet text\n",
    "mars_weather = mars_weather_tweet.find('p', 'tweet-text').get_text()\n",
    "mars_weather"
   ]
  },
  {
   "cell_type": "markdown",
   "metadata": {},
   "source": [
    "## Mars Facts"
   ]
  },
  {
   "cell_type": "code",
   "execution_count": 20,
   "metadata": {},
   "outputs": [
    {
     "data": {
      "text/html": [
       "<div>\n",
       "<style>\n",
       "    .dataframe thead tr:only-child th {\n",
       "        text-align: right;\n",
       "    }\n",
       "\n",
       "    .dataframe thead th {\n",
       "        text-align: left;\n",
       "    }\n",
       "\n",
       "    .dataframe tbody tr th {\n",
       "        vertical-align: top;\n",
       "    }\n",
       "</style>\n",
       "<table border=\"1\" class=\"dataframe\">\n",
       "  <thead>\n",
       "    <tr style=\"text-align: right;\">\n",
       "      <th></th>\n",
       "      <th>value</th>\n",
       "    </tr>\n",
       "    <tr>\n",
       "      <th>description</th>\n",
       "      <th></th>\n",
       "    </tr>\n",
       "  </thead>\n",
       "  <tbody>\n",
       "    <tr>\n",
       "      <th>Equatorial Diameter:</th>\n",
       "      <td>6,792 km</td>\n",
       "    </tr>\n",
       "    <tr>\n",
       "      <th>Polar Diameter:</th>\n",
       "      <td>6,752 km</td>\n",
       "    </tr>\n",
       "    <tr>\n",
       "      <th>Mass:</th>\n",
       "      <td>6.42 x 10^23 kg (10.7% Earth)</td>\n",
       "    </tr>\n",
       "    <tr>\n",
       "      <th>Moons:</th>\n",
       "      <td>2 (Phobos &amp; Deimos)</td>\n",
       "    </tr>\n",
       "    <tr>\n",
       "      <th>Orbit Distance:</th>\n",
       "      <td>227,943,824 km (1.52 AU)</td>\n",
       "    </tr>\n",
       "    <tr>\n",
       "      <th>Orbit Period:</th>\n",
       "      <td>687 days (1.9 years)</td>\n",
       "    </tr>\n",
       "    <tr>\n",
       "      <th>Surface Temperature:</th>\n",
       "      <td>-153 to 20 °C</td>\n",
       "    </tr>\n",
       "    <tr>\n",
       "      <th>First Record:</th>\n",
       "      <td>2nd millennium BC</td>\n",
       "    </tr>\n",
       "    <tr>\n",
       "      <th>Recorded By:</th>\n",
       "      <td>Egyptian astronomers</td>\n",
       "    </tr>\n",
       "  </tbody>\n",
       "</table>\n",
       "</div>"
      ],
      "text/plain": [
       "                                              value\n",
       "description                                        \n",
       "Equatorial Diameter:                       6,792 km\n",
       "Polar Diameter:                            6,752 km\n",
       "Mass:                 6.42 x 10^23 kg (10.7% Earth)\n",
       "Moons:                          2 (Phobos & Deimos)\n",
       "Orbit Distance:            227,943,824 km (1.52 AU)\n",
       "Orbit Period:                  687 days (1.9 years)\n",
       "Surface Temperature:                  -153 to 20 °C\n",
       "First Record:                     2nd millennium BC\n",
       "Recorded By:                   Egyptian astronomers"
      ]
     },
     "execution_count": 20,
     "metadata": {},
     "output_type": "execute_result"
    }
   ],
   "source": [
    "import pandas as pd\n",
    "df = pd.read_html('http://space-facts.com/mars/')[0]\n",
    "df.columns=['description', 'value']\n",
    "df.set_index('description', inplace=True)\n",
    "df"
   ]
  },
  {
   "cell_type": "code",
   "execution_count": 94,
   "metadata": {},
   "outputs": [
    {
     "data": {
      "text/plain": [
       "'<table border=\"1\" class=\"dataframe\">\\n  <thead>\\n    <tr style=\"text-align: right;\">\\n      <th></th>\\n      <th>value</th>\\n    </tr>\\n    <tr>\\n      <th>description</th>\\n      <th></th>\\n    </tr>\\n  </thead>\\n  <tbody>\\n    <tr>\\n      <th>Equatorial Diameter:</th>\\n      <td>6,792 km</td>\\n    </tr>\\n    <tr>\\n      <th>Polar Diameter:</th>\\n      <td>6,752 km</td>\\n    </tr>\\n    <tr>\\n      <th>Mass:</th>\\n      <td>6.42 x 10^23 kg (10.7% Earth)</td>\\n    </tr>\\n    <tr>\\n      <th>Moons:</th>\\n      <td>2 (Phobos &amp; Deimos)</td>\\n    </tr>\\n    <tr>\\n      <th>Orbit Distance:</th>\\n      <td>227,943,824 km (1.52 AU)</td>\\n    </tr>\\n    <tr>\\n      <th>Orbit Period:</th>\\n      <td>687 days (1.9 years)</td>\\n    </tr>\\n    <tr>\\n      <th>Surface Temperature:</th>\\n      <td>-153 to 20 °C</td>\\n    </tr>\\n    <tr>\\n      <th>First Record:</th>\\n      <td>2nd millennium BC</td>\\n    </tr>\\n    <tr>\\n      <th>Recorded By:</th>\\n      <td>Egyptian astronomers</td>\\n    </tr>\\n  </tbody>\\n</table>'"
      ]
     },
     "execution_count": 94,
     "metadata": {},
     "output_type": "execute_result"
    }
   ],
   "source": [
    "df.to_html()"
   ]
  },
  {
   "cell_type": "code",
   "execution_count": 95,
   "metadata": {
    "collapsed": true
   },
   "outputs": [],
   "source": [
    "browser.quit()"
   ]
  },
  {
   "cell_type": "markdown",
   "metadata": {},
   "source": [
    "# Mars Hemisphere "
   ]
  },
  {
   "cell_type": "code",
   "execution_count": 48,
   "metadata": {
    "collapsed": true
   },
   "outputs": [],
   "source": [
    "url = 'https://astrogeology.usgs.gov/search/results?q=hemisphere+enhanced&k1=target&v1=Mars'\n",
    "browser.visit(url)"
   ]
  },
  {
   "cell_type": "code",
   "execution_count": 57,
   "metadata": {},
   "outputs": [
    {
     "ename": "WebDriverException",
     "evalue": "Message: unknown error: Element <a href=\"/search/map/Mars/Viking/cerberus_enhanced\" class=\"itemLink product-item\">...</a> is not clickable at point (53, 228). Other element would receive the click: <div class=\"item\">...</div>\n  (Session info: chrome=65.0.3325.181)\n  (Driver info: chromedriver=2.35.528157 (4429ca2590d6988c0745c24c8858745aaaec01ef),platform=Mac OS X 10.12.0 x86_64)\n",
     "output_type": "error",
     "traceback": [
      "\u001b[0;31m---------------------------------------------------------------------------\u001b[0m",
      "\u001b[0;31mWebDriverException\u001b[0m                        Traceback (most recent call last)",
      "\u001b[0;32m<ipython-input-57-10c405ce3c88>\u001b[0m in \u001b[0;36m<module>\u001b[0;34m()\u001b[0m\n\u001b[1;32m      7\u001b[0m \u001b[0mtest\u001b[0m\u001b[0;34m[\u001b[0m\u001b[0;36m2\u001b[0m\u001b[0;34m]\u001b[0m\u001b[0;34m\u001b[0m\u001b[0m\n\u001b[1;32m      8\u001b[0m \u001b[0;34m\u001b[0m\u001b[0m\n\u001b[0;32m----> 9\u001b[0;31m \u001b[0mbrowser\u001b[0m\u001b[0;34m.\u001b[0m\u001b[0mfind_link_by_partial_href\u001b[0m\u001b[0;34m(\u001b[0m\u001b[0;34m'search'\u001b[0m\u001b[0;34m)\u001b[0m\u001b[0;34m[\u001b[0m\u001b[0;36m2\u001b[0m\u001b[0;34m]\u001b[0m\u001b[0;34m.\u001b[0m\u001b[0mclick\u001b[0m\u001b[0;34m(\u001b[0m\u001b[0;34m)\u001b[0m\u001b[0;34m\u001b[0m\u001b[0m\n\u001b[0m",
      "\u001b[0;32m~/anaconda3/envs/PythonData1/lib/python3.6/site-packages/splinter/driver/webdriver/__init__.py\u001b[0m in \u001b[0;36mclick\u001b[0;34m(self)\u001b[0m\n\u001b[1;32m    561\u001b[0m \u001b[0;34m\u001b[0m\u001b[0m\n\u001b[1;32m    562\u001b[0m     \u001b[0;32mdef\u001b[0m \u001b[0mclick\u001b[0m\u001b[0;34m(\u001b[0m\u001b[0mself\u001b[0m\u001b[0;34m)\u001b[0m\u001b[0;34m:\u001b[0m\u001b[0;34m\u001b[0m\u001b[0m\n\u001b[0;32m--> 563\u001b[0;31m         \u001b[0mself\u001b[0m\u001b[0;34m.\u001b[0m\u001b[0m_element\u001b[0m\u001b[0;34m.\u001b[0m\u001b[0mclick\u001b[0m\u001b[0;34m(\u001b[0m\u001b[0;34m)\u001b[0m\u001b[0;34m\u001b[0m\u001b[0m\n\u001b[0m\u001b[1;32m    564\u001b[0m \u001b[0;34m\u001b[0m\u001b[0m\n\u001b[1;32m    565\u001b[0m     \u001b[0;32mdef\u001b[0m \u001b[0mcheck\u001b[0m\u001b[0;34m(\u001b[0m\u001b[0mself\u001b[0m\u001b[0;34m)\u001b[0m\u001b[0;34m:\u001b[0m\u001b[0;34m\u001b[0m\u001b[0m\n",
      "\u001b[0;32m~/anaconda3/envs/PythonData1/lib/python3.6/site-packages/selenium/webdriver/remote/webelement.py\u001b[0m in \u001b[0;36mclick\u001b[0;34m(self)\u001b[0m\n\u001b[1;32m     78\u001b[0m     \u001b[0;32mdef\u001b[0m \u001b[0mclick\u001b[0m\u001b[0;34m(\u001b[0m\u001b[0mself\u001b[0m\u001b[0;34m)\u001b[0m\u001b[0;34m:\u001b[0m\u001b[0;34m\u001b[0m\u001b[0m\n\u001b[1;32m     79\u001b[0m         \u001b[0;34m\"\"\"Clicks the element.\"\"\"\u001b[0m\u001b[0;34m\u001b[0m\u001b[0m\n\u001b[0;32m---> 80\u001b[0;31m         \u001b[0mself\u001b[0m\u001b[0;34m.\u001b[0m\u001b[0m_execute\u001b[0m\u001b[0;34m(\u001b[0m\u001b[0mCommand\u001b[0m\u001b[0;34m.\u001b[0m\u001b[0mCLICK_ELEMENT\u001b[0m\u001b[0;34m)\u001b[0m\u001b[0;34m\u001b[0m\u001b[0m\n\u001b[0m\u001b[1;32m     81\u001b[0m \u001b[0;34m\u001b[0m\u001b[0m\n\u001b[1;32m     82\u001b[0m     \u001b[0;32mdef\u001b[0m \u001b[0msubmit\u001b[0m\u001b[0;34m(\u001b[0m\u001b[0mself\u001b[0m\u001b[0;34m)\u001b[0m\u001b[0;34m:\u001b[0m\u001b[0;34m\u001b[0m\u001b[0m\n",
      "\u001b[0;32m~/anaconda3/envs/PythonData1/lib/python3.6/site-packages/selenium/webdriver/remote/webelement.py\u001b[0m in \u001b[0;36m_execute\u001b[0;34m(self, command, params)\u001b[0m\n\u001b[1;32m    626\u001b[0m             \u001b[0mparams\u001b[0m \u001b[0;34m=\u001b[0m \u001b[0;34m{\u001b[0m\u001b[0;34m}\u001b[0m\u001b[0;34m\u001b[0m\u001b[0m\n\u001b[1;32m    627\u001b[0m         \u001b[0mparams\u001b[0m\u001b[0;34m[\u001b[0m\u001b[0;34m'id'\u001b[0m\u001b[0;34m]\u001b[0m \u001b[0;34m=\u001b[0m \u001b[0mself\u001b[0m\u001b[0;34m.\u001b[0m\u001b[0m_id\u001b[0m\u001b[0;34m\u001b[0m\u001b[0m\n\u001b[0;32m--> 628\u001b[0;31m         \u001b[0;32mreturn\u001b[0m \u001b[0mself\u001b[0m\u001b[0;34m.\u001b[0m\u001b[0m_parent\u001b[0m\u001b[0;34m.\u001b[0m\u001b[0mexecute\u001b[0m\u001b[0;34m(\u001b[0m\u001b[0mcommand\u001b[0m\u001b[0;34m,\u001b[0m \u001b[0mparams\u001b[0m\u001b[0;34m)\u001b[0m\u001b[0;34m\u001b[0m\u001b[0m\n\u001b[0m\u001b[1;32m    629\u001b[0m \u001b[0;34m\u001b[0m\u001b[0m\n\u001b[1;32m    630\u001b[0m     \u001b[0;32mdef\u001b[0m \u001b[0mfind_element\u001b[0m\u001b[0;34m(\u001b[0m\u001b[0mself\u001b[0m\u001b[0;34m,\u001b[0m \u001b[0mby\u001b[0m\u001b[0;34m=\u001b[0m\u001b[0mBy\u001b[0m\u001b[0;34m.\u001b[0m\u001b[0mID\u001b[0m\u001b[0;34m,\u001b[0m \u001b[0mvalue\u001b[0m\u001b[0;34m=\u001b[0m\u001b[0;32mNone\u001b[0m\u001b[0;34m)\u001b[0m\u001b[0;34m:\u001b[0m\u001b[0;34m\u001b[0m\u001b[0m\n",
      "\u001b[0;32m~/anaconda3/envs/PythonData1/lib/python3.6/site-packages/selenium/webdriver/remote/webdriver.py\u001b[0m in \u001b[0;36mexecute\u001b[0;34m(self, driver_command, params)\u001b[0m\n\u001b[1;32m    310\u001b[0m         \u001b[0mresponse\u001b[0m \u001b[0;34m=\u001b[0m \u001b[0mself\u001b[0m\u001b[0;34m.\u001b[0m\u001b[0mcommand_executor\u001b[0m\u001b[0;34m.\u001b[0m\u001b[0mexecute\u001b[0m\u001b[0;34m(\u001b[0m\u001b[0mdriver_command\u001b[0m\u001b[0;34m,\u001b[0m \u001b[0mparams\u001b[0m\u001b[0;34m)\u001b[0m\u001b[0;34m\u001b[0m\u001b[0m\n\u001b[1;32m    311\u001b[0m         \u001b[0;32mif\u001b[0m \u001b[0mresponse\u001b[0m\u001b[0;34m:\u001b[0m\u001b[0;34m\u001b[0m\u001b[0m\n\u001b[0;32m--> 312\u001b[0;31m             \u001b[0mself\u001b[0m\u001b[0;34m.\u001b[0m\u001b[0merror_handler\u001b[0m\u001b[0;34m.\u001b[0m\u001b[0mcheck_response\u001b[0m\u001b[0;34m(\u001b[0m\u001b[0mresponse\u001b[0m\u001b[0;34m)\u001b[0m\u001b[0;34m\u001b[0m\u001b[0m\n\u001b[0m\u001b[1;32m    313\u001b[0m             response['value'] = self._unwrap_value(\n\u001b[1;32m    314\u001b[0m                 response.get('value', None))\n",
      "\u001b[0;32m~/anaconda3/envs/PythonData1/lib/python3.6/site-packages/selenium/webdriver/remote/errorhandler.py\u001b[0m in \u001b[0;36mcheck_response\u001b[0;34m(self, response)\u001b[0m\n\u001b[1;32m    240\u001b[0m                 \u001b[0malert_text\u001b[0m \u001b[0;34m=\u001b[0m \u001b[0mvalue\u001b[0m\u001b[0;34m[\u001b[0m\u001b[0;34m'alert'\u001b[0m\u001b[0;34m]\u001b[0m\u001b[0;34m.\u001b[0m\u001b[0mget\u001b[0m\u001b[0;34m(\u001b[0m\u001b[0;34m'text'\u001b[0m\u001b[0;34m)\u001b[0m\u001b[0;34m\u001b[0m\u001b[0m\n\u001b[1;32m    241\u001b[0m             \u001b[0;32mraise\u001b[0m \u001b[0mexception_class\u001b[0m\u001b[0;34m(\u001b[0m\u001b[0mmessage\u001b[0m\u001b[0;34m,\u001b[0m \u001b[0mscreen\u001b[0m\u001b[0;34m,\u001b[0m \u001b[0mstacktrace\u001b[0m\u001b[0;34m,\u001b[0m \u001b[0malert_text\u001b[0m\u001b[0;34m)\u001b[0m\u001b[0;34m\u001b[0m\u001b[0m\n\u001b[0;32m--> 242\u001b[0;31m         \u001b[0;32mraise\u001b[0m \u001b[0mexception_class\u001b[0m\u001b[0;34m(\u001b[0m\u001b[0mmessage\u001b[0m\u001b[0;34m,\u001b[0m \u001b[0mscreen\u001b[0m\u001b[0;34m,\u001b[0m \u001b[0mstacktrace\u001b[0m\u001b[0;34m)\u001b[0m\u001b[0;34m\u001b[0m\u001b[0m\n\u001b[0m\u001b[1;32m    243\u001b[0m \u001b[0;34m\u001b[0m\u001b[0m\n\u001b[1;32m    244\u001b[0m     \u001b[0;32mdef\u001b[0m \u001b[0m_value_or_default\u001b[0m\u001b[0;34m(\u001b[0m\u001b[0mself\u001b[0m\u001b[0;34m,\u001b[0m \u001b[0mobj\u001b[0m\u001b[0;34m,\u001b[0m \u001b[0mkey\u001b[0m\u001b[0;34m,\u001b[0m \u001b[0mdefault\u001b[0m\u001b[0;34m)\u001b[0m\u001b[0;34m:\u001b[0m\u001b[0;34m\u001b[0m\u001b[0m\n",
      "\u001b[0;31mWebDriverException\u001b[0m: Message: unknown error: Element <a href=\"/search/map/Mars/Viking/cerberus_enhanced\" class=\"itemLink product-item\">...</a> is not clickable at point (53, 228). Other element would receive the click: <div class=\"item\">...</div>\n  (Session info: chrome=65.0.3325.181)\n  (Driver info: chromedriver=2.35.528157 (4429ca2590d6988c0745c24c8858745aaaec01ef),platform=Mac OS X 10.12.0 x86_64)\n"
     ]
    }
   ],
   "source": [
    "#browser.find_by_css('a')[1].click()\n",
    "browser.find_link_by_partial_href('search')\n",
    "test = browser.find_link_by_partial_href('search')\n",
    "#browser.find_by_css(\"a.product-item\")\n",
    "#test=browser.find_by_css(\"a.item_link product-item\")\n",
    "test\n",
    "test[2]\n",
    "\n",
    "browser.find_link_by_partial_href('search')[2].click()"
   ]
  },
  {
   "cell_type": "code",
   "execution_count": 62,
   "metadata": {},
   "outputs": [
    {
     "name": "stdout",
     "output_type": "stream",
     "text": [
      "[<splinter.driver.webdriver.WebDriverElement object at 0x10f6621d0>, <splinter.driver.webdriver.WebDriverElement object at 0x10f654160>, <splinter.driver.webdriver.WebDriverElement object at 0x10f668470>, <splinter.driver.webdriver.WebDriverElement object at 0x10f6684e0>, <splinter.driver.webdriver.WebDriverElement object at 0x10f668550>, <splinter.driver.webdriver.WebDriverElement object at 0x10f6685c0>, <splinter.driver.webdriver.WebDriverElement object at 0x10f668630>, <splinter.driver.webdriver.WebDriverElement object at 0x10f6686a0>, <splinter.driver.webdriver.WebDriverElement object at 0x10f668710>, <splinter.driver.webdriver.WebDriverElement object at 0x10f668780>]\n"
     ]
    },
    {
     "ename": "ElementNotVisibleException",
     "evalue": "Message: element not visible\n  (Session info: chrome=65.0.3325.181)\n  (Driver info: chromedriver=2.35.528157 (4429ca2590d6988c0745c24c8858745aaaec01ef),platform=Mac OS X 10.12.0 x86_64)\n",
     "output_type": "error",
     "traceback": [
      "\u001b[0;31m---------------------------------------------------------------------------\u001b[0m",
      "\u001b[0;31mElementNotVisibleException\u001b[0m                Traceback (most recent call last)",
      "\u001b[0;32m<ipython-input-62-610900dc0186>\u001b[0m in \u001b[0;36m<module>\u001b[0;34m()\u001b[0m\n\u001b[1;32m      9\u001b[0m \u001b[0;34m\u001b[0m\u001b[0m\n\u001b[1;32m     10\u001b[0m     \u001b[0;31m# We have to find the elements on each loop to avoid a stale element exception\u001b[0m\u001b[0;34m\u001b[0m\u001b[0;34m\u001b[0m\u001b[0m\n\u001b[0;32m---> 11\u001b[0;31m     \u001b[0mlinks\u001b[0m\u001b[0;34m[\u001b[0m\u001b[0mi\u001b[0m\u001b[0;34m]\u001b[0m\u001b[0;34m.\u001b[0m\u001b[0mclick\u001b[0m\u001b[0;34m(\u001b[0m\u001b[0;34m)\u001b[0m\u001b[0;34m\u001b[0m\u001b[0m\n\u001b[0m\u001b[1;32m     12\u001b[0m \u001b[0;34m\u001b[0m\u001b[0m\n\u001b[1;32m     13\u001b[0m     \u001b[0;31m# Next, we find the Sample image anchor tag and extract the href\u001b[0m\u001b[0;34m\u001b[0m\u001b[0;34m\u001b[0m\u001b[0m\n",
      "\u001b[0;32m~/anaconda3/envs/PythonData1/lib/python3.6/site-packages/splinter/driver/webdriver/__init__.py\u001b[0m in \u001b[0;36mclick\u001b[0;34m(self)\u001b[0m\n\u001b[1;32m    561\u001b[0m \u001b[0;34m\u001b[0m\u001b[0m\n\u001b[1;32m    562\u001b[0m     \u001b[0;32mdef\u001b[0m \u001b[0mclick\u001b[0m\u001b[0;34m(\u001b[0m\u001b[0mself\u001b[0m\u001b[0;34m)\u001b[0m\u001b[0;34m:\u001b[0m\u001b[0;34m\u001b[0m\u001b[0m\n\u001b[0;32m--> 563\u001b[0;31m         \u001b[0mself\u001b[0m\u001b[0;34m.\u001b[0m\u001b[0m_element\u001b[0m\u001b[0;34m.\u001b[0m\u001b[0mclick\u001b[0m\u001b[0;34m(\u001b[0m\u001b[0;34m)\u001b[0m\u001b[0;34m\u001b[0m\u001b[0m\n\u001b[0m\u001b[1;32m    564\u001b[0m \u001b[0;34m\u001b[0m\u001b[0m\n\u001b[1;32m    565\u001b[0m     \u001b[0;32mdef\u001b[0m \u001b[0mcheck\u001b[0m\u001b[0;34m(\u001b[0m\u001b[0mself\u001b[0m\u001b[0;34m)\u001b[0m\u001b[0;34m:\u001b[0m\u001b[0;34m\u001b[0m\u001b[0m\n",
      "\u001b[0;32m~/anaconda3/envs/PythonData1/lib/python3.6/site-packages/selenium/webdriver/remote/webelement.py\u001b[0m in \u001b[0;36mclick\u001b[0;34m(self)\u001b[0m\n\u001b[1;32m     78\u001b[0m     \u001b[0;32mdef\u001b[0m \u001b[0mclick\u001b[0m\u001b[0;34m(\u001b[0m\u001b[0mself\u001b[0m\u001b[0;34m)\u001b[0m\u001b[0;34m:\u001b[0m\u001b[0;34m\u001b[0m\u001b[0m\n\u001b[1;32m     79\u001b[0m         \u001b[0;34m\"\"\"Clicks the element.\"\"\"\u001b[0m\u001b[0;34m\u001b[0m\u001b[0m\n\u001b[0;32m---> 80\u001b[0;31m         \u001b[0mself\u001b[0m\u001b[0;34m.\u001b[0m\u001b[0m_execute\u001b[0m\u001b[0;34m(\u001b[0m\u001b[0mCommand\u001b[0m\u001b[0;34m.\u001b[0m\u001b[0mCLICK_ELEMENT\u001b[0m\u001b[0;34m)\u001b[0m\u001b[0;34m\u001b[0m\u001b[0m\n\u001b[0m\u001b[1;32m     81\u001b[0m \u001b[0;34m\u001b[0m\u001b[0m\n\u001b[1;32m     82\u001b[0m     \u001b[0;32mdef\u001b[0m \u001b[0msubmit\u001b[0m\u001b[0;34m(\u001b[0m\u001b[0mself\u001b[0m\u001b[0;34m)\u001b[0m\u001b[0;34m:\u001b[0m\u001b[0;34m\u001b[0m\u001b[0m\n",
      "\u001b[0;32m~/anaconda3/envs/PythonData1/lib/python3.6/site-packages/selenium/webdriver/remote/webelement.py\u001b[0m in \u001b[0;36m_execute\u001b[0;34m(self, command, params)\u001b[0m\n\u001b[1;32m    626\u001b[0m             \u001b[0mparams\u001b[0m \u001b[0;34m=\u001b[0m \u001b[0;34m{\u001b[0m\u001b[0;34m}\u001b[0m\u001b[0;34m\u001b[0m\u001b[0m\n\u001b[1;32m    627\u001b[0m         \u001b[0mparams\u001b[0m\u001b[0;34m[\u001b[0m\u001b[0;34m'id'\u001b[0m\u001b[0;34m]\u001b[0m \u001b[0;34m=\u001b[0m \u001b[0mself\u001b[0m\u001b[0;34m.\u001b[0m\u001b[0m_id\u001b[0m\u001b[0;34m\u001b[0m\u001b[0m\n\u001b[0;32m--> 628\u001b[0;31m         \u001b[0;32mreturn\u001b[0m \u001b[0mself\u001b[0m\u001b[0;34m.\u001b[0m\u001b[0m_parent\u001b[0m\u001b[0;34m.\u001b[0m\u001b[0mexecute\u001b[0m\u001b[0;34m(\u001b[0m\u001b[0mcommand\u001b[0m\u001b[0;34m,\u001b[0m \u001b[0mparams\u001b[0m\u001b[0;34m)\u001b[0m\u001b[0;34m\u001b[0m\u001b[0m\n\u001b[0m\u001b[1;32m    629\u001b[0m \u001b[0;34m\u001b[0m\u001b[0m\n\u001b[1;32m    630\u001b[0m     \u001b[0;32mdef\u001b[0m \u001b[0mfind_element\u001b[0m\u001b[0;34m(\u001b[0m\u001b[0mself\u001b[0m\u001b[0;34m,\u001b[0m \u001b[0mby\u001b[0m\u001b[0;34m=\u001b[0m\u001b[0mBy\u001b[0m\u001b[0;34m.\u001b[0m\u001b[0mID\u001b[0m\u001b[0;34m,\u001b[0m \u001b[0mvalue\u001b[0m\u001b[0;34m=\u001b[0m\u001b[0;32mNone\u001b[0m\u001b[0;34m)\u001b[0m\u001b[0;34m:\u001b[0m\u001b[0;34m\u001b[0m\u001b[0m\n",
      "\u001b[0;32m~/anaconda3/envs/PythonData1/lib/python3.6/site-packages/selenium/webdriver/remote/webdriver.py\u001b[0m in \u001b[0;36mexecute\u001b[0;34m(self, driver_command, params)\u001b[0m\n\u001b[1;32m    310\u001b[0m         \u001b[0mresponse\u001b[0m \u001b[0;34m=\u001b[0m \u001b[0mself\u001b[0m\u001b[0;34m.\u001b[0m\u001b[0mcommand_executor\u001b[0m\u001b[0;34m.\u001b[0m\u001b[0mexecute\u001b[0m\u001b[0;34m(\u001b[0m\u001b[0mdriver_command\u001b[0m\u001b[0;34m,\u001b[0m \u001b[0mparams\u001b[0m\u001b[0;34m)\u001b[0m\u001b[0;34m\u001b[0m\u001b[0m\n\u001b[1;32m    311\u001b[0m         \u001b[0;32mif\u001b[0m \u001b[0mresponse\u001b[0m\u001b[0;34m:\u001b[0m\u001b[0;34m\u001b[0m\u001b[0m\n\u001b[0;32m--> 312\u001b[0;31m             \u001b[0mself\u001b[0m\u001b[0;34m.\u001b[0m\u001b[0merror_handler\u001b[0m\u001b[0;34m.\u001b[0m\u001b[0mcheck_response\u001b[0m\u001b[0;34m(\u001b[0m\u001b[0mresponse\u001b[0m\u001b[0;34m)\u001b[0m\u001b[0;34m\u001b[0m\u001b[0m\n\u001b[0m\u001b[1;32m    313\u001b[0m             response['value'] = self._unwrap_value(\n\u001b[1;32m    314\u001b[0m                 response.get('value', None))\n",
      "\u001b[0;32m~/anaconda3/envs/PythonData1/lib/python3.6/site-packages/selenium/webdriver/remote/errorhandler.py\u001b[0m in \u001b[0;36mcheck_response\u001b[0;34m(self, response)\u001b[0m\n\u001b[1;32m    240\u001b[0m                 \u001b[0malert_text\u001b[0m \u001b[0;34m=\u001b[0m \u001b[0mvalue\u001b[0m\u001b[0;34m[\u001b[0m\u001b[0;34m'alert'\u001b[0m\u001b[0;34m]\u001b[0m\u001b[0;34m.\u001b[0m\u001b[0mget\u001b[0m\u001b[0;34m(\u001b[0m\u001b[0;34m'text'\u001b[0m\u001b[0;34m)\u001b[0m\u001b[0;34m\u001b[0m\u001b[0m\n\u001b[1;32m    241\u001b[0m             \u001b[0;32mraise\u001b[0m \u001b[0mexception_class\u001b[0m\u001b[0;34m(\u001b[0m\u001b[0mmessage\u001b[0m\u001b[0;34m,\u001b[0m \u001b[0mscreen\u001b[0m\u001b[0;34m,\u001b[0m \u001b[0mstacktrace\u001b[0m\u001b[0;34m,\u001b[0m \u001b[0malert_text\u001b[0m\u001b[0;34m)\u001b[0m\u001b[0;34m\u001b[0m\u001b[0m\n\u001b[0;32m--> 242\u001b[0;31m         \u001b[0;32mraise\u001b[0m \u001b[0mexception_class\u001b[0m\u001b[0;34m(\u001b[0m\u001b[0mmessage\u001b[0m\u001b[0;34m,\u001b[0m \u001b[0mscreen\u001b[0m\u001b[0;34m,\u001b[0m \u001b[0mstacktrace\u001b[0m\u001b[0;34m)\u001b[0m\u001b[0;34m\u001b[0m\u001b[0m\n\u001b[0m\u001b[1;32m    243\u001b[0m \u001b[0;34m\u001b[0m\u001b[0m\n\u001b[1;32m    244\u001b[0m     \u001b[0;32mdef\u001b[0m \u001b[0m_value_or_default\u001b[0m\u001b[0;34m(\u001b[0m\u001b[0mself\u001b[0m\u001b[0;34m,\u001b[0m \u001b[0mobj\u001b[0m\u001b[0;34m,\u001b[0m \u001b[0mkey\u001b[0m\u001b[0;34m,\u001b[0m \u001b[0mdefault\u001b[0m\u001b[0;34m)\u001b[0m\u001b[0;34m:\u001b[0m\u001b[0;34m\u001b[0m\u001b[0m\n",
      "\u001b[0;31mElementNotVisibleException\u001b[0m: Message: element not visible\n  (Session info: chrome=65.0.3325.181)\n  (Driver info: chromedriver=2.35.528157 (4429ca2590d6988c0745c24c8858745aaaec01ef),platform=Mac OS X 10.12.0 x86_64)\n"
     ]
    }
   ],
   "source": [
    "hemisphere_image_urls = []\n",
    "\n",
    "# First, get a list of all of the hemispheres\n",
    "links = browser.find_link_by_partial_href('search')\n",
    "print (links)\n",
    "# Next, loop through those links, click the link, find the sample anchor, return the href\n",
    "for i in range(len(links)):\n",
    "    hemisphere = {}\n",
    "    \n",
    "    # We have to find the elements on each loop to avoid a stale element exception\n",
    "    links[i].click()\n",
    "    \n",
    "    # Next, we find the Sample image anchor tag and extract the href\n",
    "    sample_elem = browser.find_link_by_text('Sample').first\n",
    "    hemisphere['img_url'] = sample_elem['href']\n",
    "    \n",
    "    # Get Hemisphere title\n",
    "    hemisphere['title'] = browser.find_by_css(\"h2.title\").text\n",
    "    \n",
    "    # Append hemisphere object to list\n",
    "    hemisphere_image_urls.append(hemisphere)\n",
    "    \n",
    "    # Finally, we navigate backwards\n",
    "    browser.back()"
   ]
  },
  {
   "cell_type": "code",
   "execution_count": 61,
   "metadata": {},
   "outputs": [
    {
     "data": {
      "text/plain": [
       "[]"
      ]
     },
     "execution_count": 61,
     "metadata": {},
     "output_type": "execute_result"
    }
   ],
   "source": [
    "hemisphere_image_urls"
   ]
  }
 ],
 "metadata": {
  "kernelspec": {
   "display_name": "Python 3",
   "language": "python",
   "name": "python3"
  },
  "language_info": {
   "codemirror_mode": {
    "name": "ipython",
    "version": 3
   },
   "file_extension": ".py",
   "mimetype": "text/x-python",
   "name": "python",
   "nbconvert_exporter": "python",
   "pygments_lexer": "ipython3",
   "version": "3.6.3"
  }
 },
 "nbformat": 4,
 "nbformat_minor": 2
}
